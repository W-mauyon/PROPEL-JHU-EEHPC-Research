{
  "nbformat": 4,
  "nbformat_minor": 0,
  "metadata": {
    "colab": {
      "provenance": [],
      "gpuType": "T4",
      "authorship_tag": "ABX9TyO4mDva8IL0OkbhlWCnoTwZ",
      "include_colab_link": true
    },
    "kernelspec": {
      "name": "python3",
      "display_name": "Python 3"
    },
    "language_info": {
      "name": "python"
    },
    "accelerator": "GPU"
  },
  "cells": [
    {
      "cell_type": "markdown",
      "metadata": {
        "id": "view-in-github",
        "colab_type": "text"
      },
      "source": [
        "<a href=\"https://colab.research.google.com/github/W-mauyon/PROPEL-JHU-EEHPC-Research/blob/main/Image_Classification_Neural_Network_for_JHU_Research.ipynb\" target=\"_parent\"><img src=\"https://colab.research.google.com/assets/colab-badge.svg\" alt=\"Open In Colab\"/></a>"
      ]
    },
    {
      "cell_type": "code",
      "execution_count": 48,
      "metadata": {
        "id": "M7hwb-ptye9D"
      },
      "outputs": [],
      "source": [
        "import torch\n",
        "import torch.nn as nn\n",
        "import torch.nn.functional as F\n",
        "import torch.optim as optim\n",
        "from torchvision import datasets, transforms\n",
        "from torch.utils.data import DataLoader\n",
        "import numpy as np\n",
        "import matplotlib.pyplot as plt\n",
        "import random"
      ]
    },
    {
      "cell_type": "code",
      "source": [
        "transform = transforms.Compose([\n",
        "    transforms.ToTensor(),\n",
        "    transforms.Lambda(lambda x: x.view(-1))  # Flatten\n",
        "])\n",
        "\n",
        "train_dataset = datasets.MNIST(root='./data', train=True, transform=transform, download=True)\n",
        "test_dataset = datasets.MNIST(root='./data', train=False, transform=transform, download=True)\n",
        "\n",
        "mnist_test = datasets.MNIST(root='./data', train=False, transform=transform, download=True)\n",
        "train_loader = DataLoader(train_dataset, batch_size=64, shuffle=True)\n",
        "test_loader = DataLoader(test_dataset, batch_size=64, shuffle=False)"
      ],
      "metadata": {
        "id": "GOwsV1NG5rNb"
      },
      "execution_count": 49,
      "outputs": []
    },
    {
      "cell_type": "code",
      "source": [
        "class PreSSMClassifier(nn.Module):\n",
        "    def __init__(self, input_dim=784, d_model=128, conv_kernel_size=4, num_classes=10):\n",
        "        super(PreSSMClassifier, self).__init__()\n",
        "\n",
        "        self.linear_proj1 = nn.Linear(\n",
        "            input_dim,\n",
        "            d_model)\n",
        "\n",
        "        self.conv1d = nn.Conv1d(\n",
        "            in_channels=1,\n",
        "            out_channels=d_model,\n",
        "            kernel_size=conv_kernel_size,\n",
        "            padding=conv_kernel_size//2)\n",
        "\n",
        "        self.silu = nn.SiLU()\n",
        "\n",
        "        self.linear_proj2 = nn.Linear(d_model, d_model)\n",
        "\n",
        "        self.classifier = nn.Linear(d_model, num_classes)\n",
        "\n",
        "    def forward(self, x):\n",
        "        x = self.linear_proj1(x)\n",
        "\n",
        "        x = x.unsqueeze(1)\n",
        "\n",
        "        x = self.conv1d(x)\n",
        "\n",
        "        x = self.silu(x)\n",
        "\n",
        "        x = x.mean(dim=2)\n",
        "\n",
        "        x = self.linear_proj2(x)\n",
        "\n",
        "        logits = self.classifier(x)\n",
        "        return logits"
      ],
      "metadata": {
        "id": "TXKApnzF5mob"
      },
      "execution_count": 50,
      "outputs": []
    },
    {
      "cell_type": "code",
      "source": [
        "device = torch.device(\"cpu\")\n",
        "model = PreSSMClassifier().to(device)\n",
        "\n",
        "criterion = nn.CrossEntropyLoss()\n",
        "optimizer = optim.Adam(model.parameters(), lr=0.001)"
      ],
      "metadata": {
        "id": "7RfQRCmO51Mb"
      },
      "execution_count": 51,
      "outputs": []
    },
    {
      "cell_type": "code",
      "source": [
        "epochs= 5\n",
        "losses = []\n",
        "def train_model(epochs):\n",
        "    for epoch in range(epochs):\n",
        "        model.train()\n",
        "        total_loss = 0\n",
        "        correct = 0\n",
        "        for images, labels in train_loader:\n",
        "            images, labels = images.to(device), labels.to(device)\n",
        "\n",
        "            optimizer.zero_grad()\n",
        "            outputs = model(images)\n",
        "            loss = criterion(outputs, labels)\n",
        "            loss.backward()\n",
        "            optimizer.step()\n",
        "\n",
        "            total_loss += loss.item()\n",
        "            correct += (outputs.argmax(dim=1) == labels).sum().item()\n",
        "\n",
        "        losses.append(total_loss)\n",
        "        accuracy = 100. * correct / len(train_loader.dataset)\n",
        "        avg_loss = total_loss / len(train_loader)\n",
        "        print(f'Epoch {epoch+1}: Loss = {avg_loss:.4f}, Accuracy = {accuracy:.2f}%')"
      ],
      "metadata": {
        "id": "8cZxrPI3NOhw"
      },
      "execution_count": 52,
      "outputs": []
    },
    {
      "cell_type": "code",
      "source": [
        "def test_model():\n",
        "    model.eval()\n",
        "    correct = 0\n",
        "    with torch.no_grad():\n",
        "        for images, labels in test_loader:\n",
        "            images, labels = images.to(device), labels.to(device)\n",
        "            outputs = model(images)\n",
        "            correct += (outputs.argmax(dim=1) == labels).sum().item()\n",
        "\n",
        "    accuracy = 100. * correct / len(test_loader.dataset)\n",
        "    print(f'Test Accuracy: {accuracy:.2f}%')"
      ],
      "metadata": {
        "id": "Kx6m9b8BNRYM"
      },
      "execution_count": 53,
      "outputs": []
    },
    {
      "cell_type": "code",
      "source": [
        "train_model(epochs=5)\n",
        "test_model()\n",
        "\n",
        "plt.plot(range(1, epochs+1), losses)\n",
        "plt.xlabel(\"Epoch\")\n",
        "plt.ylabel(\"Loss\")\n",
        "plt.title(\"Training Loss over Epochs\")\n",
        "plt.grid(True)\n",
        "plt.show()"
      ],
      "metadata": {
        "colab": {
          "base_uri": "https://localhost:8080/",
          "height": 576
        },
        "id": "soMw0GRd6DRs",
        "outputId": "424c5d83-4cf5-4847-a879-8b97176b9d5e"
      },
      "execution_count": 54,
      "outputs": [
        {
          "output_type": "stream",
          "name": "stdout",
          "text": [
            "Epoch 1: Loss = 0.9538, Accuracy = 66.75%\n",
            "Epoch 2: Loss = 0.3668, Accuracy = 89.28%\n",
            "Epoch 3: Loss = 0.2521, Accuracy = 92.68%\n",
            "Epoch 4: Loss = 0.2010, Accuracy = 94.26%\n",
            "Epoch 5: Loss = 0.1692, Accuracy = 95.09%\n",
            "Test Accuracy: 94.39%\n"
          ]
        },
        {
          "output_type": "display_data",
          "data": {
            "text/plain": [
              "<Figure size 640x480 with 1 Axes>"
            ],
            "image/png": "[encoded data removed]"
          },
          "metadata": {}
        }
      ]
    },
    {
      "cell_type": "code",
      "source": [
        "x_test_samples = []\n",
        "true_labels = []\n",
        "predicted_labels = []\n",
        "\n",
        "model.eval()\n",
        "with torch.no_grad():\n",
        "    for images, labels in test_loader:\n",
        "        outputs = model(images)\n",
        "        preds = outputs.argmax(dim=1)\n",
        "\n",
        "        x_test_samples.append(images)\n",
        "        true_labels.append(labels)\n",
        "        predicted_labels.append(preds)\n",
        "\n",
        "x_test_samples = torch.cat(x_test_samples)\n",
        "true_labels = torch.cat(true_labels)\n",
        "predicted_labels = torch.cat(predicted_labels)"
      ],
      "metadata": {
        "id": "66FcE80Na6FD"
      },
      "execution_count": 55,
      "outputs": []
    },
    {
      "cell_type": "code",
      "source": [
        "def visualize_predictions(x_test, predicted_labels, true_labels):\n",
        "    plt.figure(figsize=(12, 6))\n",
        "    for i in range(10):\n",
        "        index = random.randint(0, len(x_test) - 1)\n",
        "        image = x_test[index].reshape(28, 28)\n",
        "\n",
        "        plt.subplot(2, 5, i+1)\n",
        "        plt.imshow(image, cmap='gray')\n",
        "        plt.title(f\"Pred: {predicted_labels[index].item()}, True: {true_labels[index].item()}\")\n",
        "        plt.axis('off')\n",
        "\n",
        "    plt.tight_layout()\n",
        "    plt.show()"
      ],
      "metadata": {
        "id": "2aBBnCkOZ4kt"
      },
      "execution_count": 56,
      "outputs": []
    },
    {
      "cell_type": "code",
      "source": [
        "visualize_predictions(x_test_samples,predicted_labels, true_labels)"
      ],
      "metadata": {
        "colab": {
          "base_uri": "https://localhost:8080/",
          "height": 560
        },
        "id": "OsysQxAKbgU6",
        "outputId": "0ff99585-22b1-4da0-e4df-d912d18aca37"
      },
      "execution_count": 57,
      "outputs": [
        {
          "output_type": "display_data",
          "data": {
            "text/plain": [
              "<Figure size 1200x600 with 10 Axes>"
            ],
            "image/png": "[encoded data removed]"
          },
          "metadata": {}
        }
      ]
    },
    {
      "cell_type": "code",
      "source": [
        "Q_SCALE = 2 ** 11  # For Q5.11\n",
        "\n",
        "def to_fixed_point(tensor, scale=Q_SCALE):\n",
        "    scaled = np.round(tensor.cpu().numpy() * scale)\n",
        "    max_val = np.max(scaled)\n",
        "    min_val = np.min(scaled)\n",
        "    print(f\"Fixed-point scaling: max={max_val}, min={min_val}\")\n",
        "    clipped = np.clip(scaled, -32768, 32767).astype(np.int16)\n",
        "    return clipped\n",
        "\n",
        "def save_mem_file(filename, data):\n",
        "    with open(filename, 'w') as f:\n",
        "        for val in data.flatten():\n",
        "            f.write(f\"{int(val) & 0xFFFF:04X}\\n\")\n",
        "    print(f\"Saved {filename} with shape {data.shape}\")\n",
        "\n",
        "def export_model_weights(model):\n",
        "    lp1_weight = to_fixed_point(model.linear_proj1.weight.data)\n",
        "    lp1_bias = to_fixed_point(model.linear_proj1.bias.data)\n",
        "\n",
        "    save_mem_file('proj1_weights.mem', lp1_weight)\n",
        "    save_mem_file('proj1_biases.mem', lp1_bias)\n",
        "\n",
        "    # Conv1D\n",
        "    conv_weight = to_fixed_point(model.conv1d.weight.data)\n",
        "    conv_bias = to_fixed_point(model.conv1d.bias.data)\n",
        "\n",
        "    save_mem_file('conv1d_weights.mem', conv_weight)\n",
        "    save_mem_file('conv1d_biases.mem', conv_bias)\n",
        "\n",
        "    # Linear Projection 2\n",
        "    lp2_weight = to_fixed_point(model.linear_proj2.weight.data)\n",
        "    lp2_bias = to_fixed_point(model.linear_proj2.bias.data)\n",
        "\n",
        "    save_mem_file('proj2_weights.mem', lp2_weight)\n",
        "    save_mem_file('proj2_biases.mem', lp2_bias)\n",
        "\n",
        "    # Classifier (if needed)\n",
        "    classifier_weight = to_fixed_point(model.classifier.weight.data)\n",
        "    classifier_bias = to_fixed_point(model.classifier.bias.data)\n",
        "\n",
        "    save_mem_file('classifier_weights.mem', classifier_weight)\n",
        "    save_mem_file('classifier_biases.mem', classifier_bias)"
      ],
      "metadata": {
        "id": "Yh21TTGStFOC"
      },
      "execution_count": 58,
      "outputs": []
    },
    {
      "cell_type": "code",
      "source": [
        "export_model_weights(model)"
      ],
      "metadata": {
        "colab": {
          "base_uri": "https://localhost:8080/"
        },
        "id": "l5hVaPPDuEr1",
        "outputId": "522b147d-91cd-4b8a-a043-b2301cd5bc23"
      },
      "execution_count": 59,
      "outputs": [
        {
          "output_type": "stream",
          "name": "stdout",
          "text": [
            "Fixed-point scaling: max=1201.0, min=-1048.0\n",
            "Fixed-point scaling: max=1511.0, min=-1631.0\n",
            "Saved proj1_weights.mem with shape (128, 784)\n",
            "Saved proj1_biases.mem with shape (128,)\n",
            "Fixed-point scaling: max=1651.0, min=-1778.0\n",
            "Fixed-point scaling: max=957.0, min=-1142.0\n",
            "Saved conv1d_weights.mem with shape (128, 1, 4)\n",
            "Saved conv1d_biases.mem with shape (128,)\n",
            "Fixed-point scaling: max=1123.0, min=-1256.0\n",
            "Fixed-point scaling: max=403.0, min=-330.0\n",
            "Saved proj2_weights.mem with shape (128, 128)\n",
            "Saved proj2_biases.mem with shape (128,)\n",
            "Fixed-point scaling: max=1000.0, min=-899.0\n",
            "Fixed-point scaling: max=237.0, min=-196.0\n",
            "Saved classifier_weights.mem with shape (10, 128)\n",
            "Saved classifier_biases.mem with shape (10,)\n"
          ]
        }
      ]
    },
    {
      "cell_type": "code",
      "source": [
        "image_idx = 0\n",
        "image_tensor, label = mnist_test[image_idx]\n",
        "\n",
        "# Convert image to Q5.11\n",
        "image_np = image_tensor.numpy()\n",
        "q5_11_image = np.round(image_np * Q_SCALE).astype(np.int16)\n",
        "\n",
        "np.savetxt(\"mnist_sample_q5_11.txt\", q5_11_image, fmt='%d')\n",
        "\n",
        "print(f\"Image index {image_idx} with label {label} converted and saved as mnist_sample_q5_11.txt\")"
      ],
      "metadata": {
        "colab": {
          "base_uri": "https://localhost:8080/"
        },
        "id": "CjH1qCuA1unC",
        "outputId": "c7f67aa1-ef13-4bf6-813b-bff51bfcbc48"
      },
      "execution_count": 60,
      "outputs": [
        {
          "output_type": "stream",
          "name": "stdout",
          "text": [
            "Image index 0 with label 7 converted and saved as mnist_sample_q5_11.txt\n"
          ]
        }
      ]
    }
  ]
}