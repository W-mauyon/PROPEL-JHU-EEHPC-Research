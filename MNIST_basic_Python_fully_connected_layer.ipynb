{
  "nbformat": 4,
  "nbformat_minor": 0,
  "metadata": {
    "colab": {
      "provenance": [],
      "authorship_tag": "ABX9TyNu79X5rDHdX3/SfLF+urB1",
      "include_colab_link": true
    },
    "kernelspec": {
      "name": "python3",
      "display_name": "Python 3"
    },
    "language_info": {
      "name": "python"
    }
  },
  "cells": [
    {
      "cell_type": "markdown",
      "metadata": {
        "id": "view-in-github",
        "colab_type": "text"
      },
      "source": [
        "<a href=\"https://colab.research.google.com/github/W-mauyon/PROPEL-JHU-EEHPC-Research/blob/main/MNIST_basic_Python_fully_connected_layer.ipynb\" target=\"_parent\"><img src=\"https://colab.research.google.com/assets/colab-badge.svg\" alt=\"Open In Colab\"/></a>"
      ]
    },
    {
      "cell_type": "markdown",
      "source": [
        "* Importing libaries and loading MNIST datasets"
      ],
      "metadata": {
        "id": "hxM_QJhy6QYQ"
      }
    },
    {
      "cell_type": "code",
      "execution_count": 12,
      "metadata": {
        "colab": {
          "base_uri": "https://localhost:8080/"
        },
        "id": "0Wm-lcdYcNEx",
        "outputId": "f1260508-177e-4b69-84d4-363a400a44a9"
      },
      "outputs": [
        {
          "output_type": "stream",
          "name": "stdout",
          "text": [
            "(60000, 28, 28)\n",
            "(60000,)\n"
          ]
        }
      ],
      "source": [
        "import numpy as np\n",
        "import pandas as pd\n",
        "import tensorflow as tf\n",
        "import matplotlib.pyplot as plt\n",
        "import random\n",
        "\n",
        "\n",
        "# Load the MNIST dataset\n",
        "(x_train, y_train), (x_test, y_test) = tf.keras.datasets.mnist.load_data()\n",
        "\n",
        "# Print the shape of the training data\n",
        "print(x_train.shape)\n",
        "print(y_train.shape)"
      ]
    },
    {
      "cell_type": "markdown",
      "source": [
        "\n",
        "\n",
        "* **Preprocessing the data:**\n",
        "1. First, normalize pixel values from 0 to 255 to 0 to 1 as neural networks works when inputs are small and similar in scale.\n",
        "2. Flatten the images (each image from 28×28 (2D) to 784 (1D).)\n",
        "3. Encode Integer labels to vectors\n",
        "\n"
      ],
      "metadata": {
        "id": "Tca-2u0V6eRq"
      }
    },
    {
      "cell_type": "code",
      "source": [
        "x_train = x_train/255.0\n",
        "x_test = x_test/255.0\n",
        "\n",
        "x_train = x_train.reshape(-1, 784)\n",
        "x_test = x_test.reshape(-1, 784)"
      ],
      "metadata": {
        "id": "W9aj3LDc6_nD"
      },
      "execution_count": 13,
      "outputs": []
    },
    {
      "cell_type": "code",
      "source": [
        "'''\n",
        "fig, ax = plt.subplots(6, 6)\n",
        "k = 0\n",
        "for i in range(6):\n",
        "    for j in range(6):\n",
        "        ax[i][j].imshow(x_train[k].reshape(28, 28), aspect='auto')\n",
        "        k += 1\n",
        "plt.show()\n",
        "'''"
      ],
      "metadata": {
        "colab": {
          "base_uri": "https://localhost:8080/",
          "height": 36
        },
        "collapsed": true,
        "id": "k-jZ3XpEdl7v",
        "outputId": "6986261e-83b1-43d8-b1f8-ed4a8cc489b9"
      },
      "execution_count": 14,
      "outputs": [
        {
          "output_type": "execute_result",
          "data": {
            "text/plain": [
              "\"\\nfig, ax = plt.subplots(6, 6)\\nk = 0\\nfor i in range(6):\\n    for j in range(6):\\n        ax[i][j].imshow(x_train[k].reshape(28, 28), aspect='auto')\\n        k += 1\\nplt.show()\\n\""
            ],
            "application/vnd.google.colaboratory.intrinsic+json": {
              "type": "string"
            }
          },
          "metadata": {},
          "execution_count": 14
        }
      ]
    },
    {
      "cell_type": "code",
      "source": [
        "def one_hot_encode(y, num_classes = 10):\n",
        "  return np.eye(num_classes)[y]\n",
        "\n",
        "y_test_encoded = one_hot_encode(y_test)\n",
        "y_train_encoded = one_hot_encode(y_train)\n",
        "\n",
        "print(y_train_encoded.shape)\n",
        "print(x_train.shape)"
      ],
      "metadata": {
        "colab": {
          "base_uri": "https://localhost:8080/"
        },
        "id": "M49Y2Wc6BO9B",
        "outputId": "3cba0e6c-408e-4f1a-83fd-207780d36d21"
      },
      "execution_count": 15,
      "outputs": [
        {
          "output_type": "stream",
          "name": "stdout",
          "text": [
            "(60000, 10)\n",
            "(60000, 784)\n"
          ]
        }
      ]
    },
    {
      "cell_type": "code",
      "source": [
        "np.random.seed(42)\n",
        "\n",
        "input_size = 784\n",
        "output_size = 10\n",
        "\n",
        "weights = np.random.randn(input_size, output_size) * 0.01\n",
        "biases = np.zeros((1, output_size))"
      ],
      "metadata": {
        "id": "dR4PwrIBI5aL"
      },
      "execution_count": 16,
      "outputs": []
    },
    {
      "cell_type": "markdown",
      "source": [
        "\n",
        "* Forward Pass with Softmax"
      ],
      "metadata": {
        "id": "mvHX7JhsLDtM"
      }
    },
    {
      "cell_type": "code",
      "source": [
        "def softmax(z):\n",
        "  exp_scores = np.exp(z - np.max(z, axis = 1, keepdims=True))\n",
        "  return exp_scores/np.sum(exp_scores, axis = 1, keepdims=True)\n",
        "\n",
        "def forwardpass(x_train, weights, biases):\n",
        "  z = np.dot(x_train, weights) + biases\n",
        "  return softmax(z)\n"
      ],
      "metadata": {
        "id": "_A-ThaRyLLa_"
      },
      "execution_count": 17,
      "outputs": []
    },
    {
      "cell_type": "markdown",
      "source": [
        "\n",
        "\n",
        "* Cross-entropy Loss Function\n"
      ],
      "metadata": {
        "id": "K1Y4ED5lV2EL"
      }
    },
    {
      "cell_type": "code",
      "source": [
        "def cross_entropy_loss(predictions, labels):\n",
        "  m = labels.shape[0]\n",
        "  log_probs = -np.log(predictions + 1e-9)\n",
        "  loss = np.sum(labels * log_probs)/m\n",
        "  return loss"
      ],
      "metadata": {
        "id": "YsWDh2CMV1Ss"
      },
      "execution_count": 18,
      "outputs": []
    },
    {
      "cell_type": "markdown",
      "source": [
        "\n",
        "\n",
        "* Backward Pass and Update\n",
        "\n"
      ],
      "metadata": {
        "id": "c6b32lT2Z8BR"
      }
    },
    {
      "cell_type": "code",
      "source": [
        "def backward_pass(x_train, predictions, labels, learning_rate = 0.1):\n",
        "  m = x_train.shape[0]\n",
        "  dz = predictions - labels\n",
        "  dw = (1/m) * np.dot(x_train.T, dz)\n",
        "  db = (1/m) * np.sum(dz, axis = 0, keepdims=True)\n",
        "\n",
        "  global weights, biases\n",
        "  weights -= learning_rate * dw\n",
        "  biases -= learning_rate * db"
      ],
      "metadata": {
        "id": "oWFtE6AZZbuj"
      },
      "execution_count": 19,
      "outputs": []
    },
    {
      "cell_type": "markdown",
      "source": [
        "\n",
        "\n",
        "* Training model\n",
        "\n"
      ],
      "metadata": {
        "id": "CDYyHLgdcsj_"
      }
    },
    {
      "cell_type": "code",
      "source": [
        "losses = []\n",
        "epochs = 40\n",
        "for epoch in range(epochs):\n",
        "  predictions = forwardpass(x_train, weights, biases)\n",
        "  loss = cross_entropy_loss(predictions, y_train_encoded)\n",
        "  backward_pass(x_train, predictions, y_train_encoded)\n",
        "\n",
        "  losses.append(loss)\n",
        "  print(f\"Epoch: {epoch +1}/{epochs}, Loss: {loss}\")\n",
        "\n",
        "# Plot loss\n",
        "plt.plot(range(1, epochs+1), losses)\n",
        "plt.xlabel(\"Epoch\")\n",
        "plt.ylabel(\"Loss\")\n",
        "plt.title(\"Training Loss over Epochs\")\n",
        "plt.grid(True)\n",
        "plt.show()"
      ],
      "metadata": {
        "colab": {
          "base_uri": "https://localhost:8080/",
          "height": 1000
        },
        "id": "Ed4WONxHcwyk",
        "outputId": "9524e190-df34-4ff7-f93b-baad5ff44eab"
      },
      "execution_count": 20,
      "outputs": [
        {
          "output_type": "stream",
          "name": "stdout",
          "text": [
            "Epoch: 1/40, Loss: 2.3276569720778606\n",
            "Epoch: 2/40, Loss: 2.2207976588716067\n",
            "Epoch: 3/40, Loss: 2.123421999699058\n",
            "Epoch: 4/40, Loss: 2.033500262521834\n",
            "Epoch: 5/40, Loss: 1.9501100358657897\n",
            "Epoch: 6/40, Loss: 1.8727123902343112\n",
            "Epoch: 7/40, Loss: 1.8008920320563642\n",
            "Epoch: 8/40, Loss: 1.7342708647300775\n",
            "Epoch: 9/40, Loss: 1.672484185917154\n",
            "Epoch: 10/40, Loss: 1.6151773780875678\n",
            "Epoch: 11/40, Loss: 1.5620081946584772\n",
            "Epoch: 12/40, Loss: 1.5126498298535902\n",
            "Epoch: 13/40, Loss: 1.4667934061288437\n",
            "Epoch: 14/40, Loss: 1.4241496047836761\n",
            "Epoch: 15/40, Loss: 1.384449487258137\n",
            "Epoch: 16/40, Loss: 1.3474446407387326\n",
            "Epoch: 17/40, Loss: 1.312906796989651\n",
            "Epoch: 18/40, Loss: 1.2806270652203535\n",
            "Epoch: 19/40, Loss: 1.2504149023608007\n",
            "Epoch: 20/40, Loss: 1.2220969229327243\n",
            "Epoch: 21/40, Loss: 1.1955156290473763\n",
            "Epoch: 22/40, Loss: 1.1705281210277565\n",
            "Epoch: 23/40, Loss: 1.147004831903036\n",
            "Epoch: 24/40, Loss: 1.1248283149661806\n",
            "Epoch: 25/40, Loss: 1.1038921026364414\n",
            "Epoch: 26/40, Loss: 1.0840996466665667\n",
            "Epoch: 27/40, Loss: 1.06536334381299\n",
            "Epoch: 28/40, Loss: 1.047603646972797\n",
            "Epoch: 29/40, Loss: 1.0307482590588393\n",
            "Epoch: 30/40, Loss: 1.0147314051775995\n",
            "Epoch: 31/40, Loss: 0.9994931777085271\n",
            "Epoch: 32/40, Loss: 0.9849789484382868\n",
            "Epoch: 33/40, Loss: 0.9711388418131583\n",
            "Epoch: 34/40, Loss: 0.9579272635157174\n",
            "Epoch: 35/40, Loss: 0.945302478859951\n",
            "Epoch: 36/40, Loss: 0.9332262358701084\n",
            "Epoch: 37/40, Loss: 0.9216634283196726\n",
            "Epoch: 38/40, Loss: 0.9105817944290674\n",
            "Epoch: 39/40, Loss: 0.8999516473350508\n",
            "Epoch: 40/40, Loss: 0.889745633839575\n"
          ]
        },
        {
          "output_type": "display_data",
          "data": {
            "text/plain": [
              "<Figure size 640x480 with 1 Axes>"
            ],
            "image/png": "[encoded data removed]"
          },
          "metadata": {}
        }
      ]
    },
    {
      "cell_type": "markdown",
      "source": [
        "\n",
        "\n",
        "* Evaluating Model's Accuracy\n",
        "\n"
      ],
      "metadata": {
        "id": "g307sOj2fRuT"
      }
    },
    {
      "cell_type": "code",
      "source": [
        "def evaluate(x_test, y_test_encoded):\n",
        "  predictions = forwardpass(x_test, weights, biases)\n",
        "  predicted_labels = np.argmax(predictions, axis =1)\n",
        "  true_labels = np.argmax(y_test_encoded, axis = 1)\n",
        "\n",
        "  accuracy = np.mean(predicted_labels == true_labels)\n",
        "  correct = np.sum(predicted_labels == true_labels)\n",
        "  incorrect = len(true_labels) - correct\n",
        "\n",
        "  print(f\"Correct predictions: {correct}\")\n",
        "  print(f\"Incorrect predictions: {incorrect}\")\n",
        "  print(f\"Test Accuracy : {round(accuracy * 100, 2)} %\")\n",
        "  return predicted_labels, true_labels\n",
        "\n",
        "predicted_labels, true_labels = evaluate(x_test, y_test_encoded)"
      ],
      "metadata": {
        "colab": {
          "base_uri": "https://localhost:8080/"
        },
        "id": "u_egI4iOh3ss",
        "outputId": "0e376958-8de1-49af-a058-554d34ef5c9b"
      },
      "execution_count": 21,
      "outputs": [
        {
          "output_type": "stream",
          "name": "stdout",
          "text": [
            "Correct predictions: 8426\n",
            "Incorrect predictions: 1574\n",
            "Test Accuracy : 84.26 %\n"
          ]
        }
      ]
    },
    {
      "cell_type": "code",
      "source": [
        "def visualize_predictions(x_test, predicted_labels, true_labels):\n",
        "    plt.figure(figsize=(12, 6))\n",
        "    for i in range(10):\n",
        "        index = random.randint(0, len(x_test) - 1)\n",
        "        image = x_test[index].reshape(28, 28)\n",
        "\n",
        "        plt.subplot(2, 5, i+1)\n",
        "        plt.imshow(image, cmap='gray')\n",
        "        plt.title(f\"Pred: {predicted_labels[index]}, True: {true_labels[index]}\")\n",
        "        plt.axis('off')\n",
        "\n",
        "    plt.tight_layout()\n",
        "    plt.show()"
      ],
      "metadata": {
        "id": "qU9jp53qFPFD"
      },
      "execution_count": 22,
      "outputs": []
    },
    {
      "cell_type": "code",
      "source": [
        "visualize_predictions(x_test, predicted_labels, true_labels)"
      ],
      "metadata": {
        "colab": {
          "base_uri": "https://localhost:8080/",
          "height": 560
        },
        "id": "vjEPaCv8INah",
        "outputId": "7ebf2a64-2e05-4950-a4a1-65bede90d088"
      },
      "execution_count": 23,
      "outputs": [
        {
          "output_type": "display_data",
          "data": {
            "text/plain": [
              "<Figure size 1200x600 with 10 Axes>"
            ],
            "image/png": "[encoded data removed]"
          },
          "metadata": {}
        }
      ]
    }
  ]
}